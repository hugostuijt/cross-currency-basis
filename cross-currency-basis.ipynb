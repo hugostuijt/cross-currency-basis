{
 "cells": [
  {
   "cell_type": "code",
   "execution_count": 1,
   "metadata": {},
   "outputs": [],
   "source": [
    "import pandas as pd\n",
    "import matplotlib.pyplot as plt\n",
    "import QuantLib as ql\n",
    "import numpy as np\n",
    "from dateutil.relativedelta import relativedelta"
   ]
  },
  {
   "cell_type": "code",
   "execution_count": 2,
   "metadata": {},
   "outputs": [],
   "source": [
    "# plot data. If multiple lines, pass them in a list\n",
    "def plot(data):\n",
    "    fig, ax = plt.subplots()\n",
    "    if isinstance(data, list):\n",
    "        for d in data:\n",
    "            plt.plot(d)\n",
    "    else:\n",
    "        plt.plot(data)\n",
    "    plt.axhline(y=0, lw=.75, c='k')\n",
    "    plt.grid()\n",
    "    plt.show()"
   ]
  },
  {
   "cell_type": "markdown",
   "metadata": {},
   "source": [
    "## Create ACT/360 and ACT/365 year fractions for 3m, 1y and 3y tenors\n",
    "GBP LIBOR uses the ACT/365 convention"
   ]
  },
  {
   "cell_type": "code",
   "execution_count": 3,
   "metadata": {},
   "outputs": [
    {
     "ename": "NameError",
     "evalue": "name 'libor' is not defined",
     "output_type": "error",
     "traceback": [
      "\u001b[1;31m---------------------------------------------------------------------------\u001b[0m",
      "\u001b[1;31mNameError\u001b[0m                                 Traceback (most recent call last)",
      "\u001b[1;32m<ipython-input-3-a8c8d4406e7e>\u001b[0m in \u001b[0;36m<module>\u001b[1;34m\u001b[0m\n\u001b[1;32m----> 1\u001b[1;33m \u001b[0myearfrac\u001b[0m \u001b[1;33m=\u001b[0m \u001b[0mpd\u001b[0m\u001b[1;33m.\u001b[0m\u001b[0mDataFrame\u001b[0m\u001b[1;33m(\u001b[0m\u001b[0mindex\u001b[0m \u001b[1;33m=\u001b[0m \u001b[0mlibor\u001b[0m\u001b[1;33m.\u001b[0m\u001b[0mindex\u001b[0m\u001b[1;33m,\u001b[0m \u001b[0mcolumns\u001b[0m\u001b[1;33m=\u001b[0m\u001b[1;33m[\u001b[0m\u001b[1;34m'3m_act360'\u001b[0m\u001b[1;33m,\u001b[0m \u001b[1;34m'3m_act365'\u001b[0m\u001b[1;33m,\u001b[0m \u001b[1;34m'1y_act360'\u001b[0m\u001b[1;33m,\u001b[0m \u001b[1;34m'1y_act365'\u001b[0m\u001b[1;33m,\u001b[0m \u001b[1;34m'3y_act360'\u001b[0m\u001b[1;33m,\u001b[0m \u001b[1;34m'3y_act365'\u001b[0m\u001b[1;33m]\u001b[0m\u001b[1;33m)\u001b[0m\u001b[1;33m\u001b[0m\u001b[1;33m\u001b[0m\u001b[0m\n\u001b[0m\u001b[0;32m      2\u001b[0m \u001b[1;33m\u001b[0m\u001b[0m\n\u001b[0;32m      3\u001b[0m \u001b[1;32mfor\u001b[0m \u001b[0mindex\u001b[0m\u001b[1;33m,\u001b[0m \u001b[0mrow\u001b[0m \u001b[1;32min\u001b[0m \u001b[0myearfrac\u001b[0m\u001b[1;33m.\u001b[0m\u001b[0miterrows\u001b[0m\u001b[1;33m(\u001b[0m\u001b[1;33m)\u001b[0m\u001b[1;33m:\u001b[0m\u001b[1;33m\u001b[0m\u001b[1;33m\u001b[0m\u001b[0m\n\u001b[0;32m      4\u001b[0m     \u001b[0md0\u001b[0m \u001b[1;33m=\u001b[0m \u001b[0mql\u001b[0m\u001b[1;33m.\u001b[0m\u001b[0mDate\u001b[0m\u001b[1;33m(\u001b[0m\u001b[0mindex\u001b[0m\u001b[1;33m.\u001b[0m\u001b[0mday\u001b[0m\u001b[1;33m,\u001b[0m \u001b[0mindex\u001b[0m\u001b[1;33m.\u001b[0m\u001b[0mmonth\u001b[0m\u001b[1;33m,\u001b[0m \u001b[0mindex\u001b[0m\u001b[1;33m.\u001b[0m\u001b[0myear\u001b[0m\u001b[1;33m)\u001b[0m\u001b[1;33m\u001b[0m\u001b[1;33m\u001b[0m\u001b[0m\n\u001b[0;32m      5\u001b[0m     \u001b[0md3m_temp\u001b[0m \u001b[1;33m=\u001b[0m \u001b[0mindex\u001b[0m \u001b[1;33m+\u001b[0m \u001b[0mrelativedelta\u001b[0m\u001b[1;33m(\u001b[0m\u001b[0mmonths\u001b[0m\u001b[1;33m=\u001b[0m\u001b[1;36m3\u001b[0m\u001b[1;33m)\u001b[0m\u001b[1;33m\u001b[0m\u001b[1;33m\u001b[0m\u001b[0m\n",
      "\u001b[1;31mNameError\u001b[0m: name 'libor' is not defined"
     ]
    }
   ],
   "source": [
    "yearfrac = pd.DataFrame(index = libor.index, columns=['3m_act360', '3m_act365', '1y_act360', '1y_act365', '3y_act360', '3y_act365'])\n",
    "\n",
    "for index, row in yearfrac.iterrows():\n",
    "    d0 = ql.Date(index.day, index.month, index.year)\n",
    "    d3m_temp = index + relativedelta(months=3)\n",
    "    d1y_temp = index + relativedelta(months=12)\n",
    "    d3y_temp = index + relativedelta(months=36)\n",
    "    # convert to quantlib dates\n",
    "    d3m = ql.Date(d3m_temp.day, d3m_temp.month, d3m_temp.year)\n",
    "    d1y = ql.Date(d1y_temp.day, d1y_temp.month, d1y_temp.year)\n",
    "    d3y = ql.Date(d3y_temp.day, d3y_temp.month, d3y_temp.year)\n",
    "    \n",
    "    yearfrac.loc[index, '3m_act360'] = ql.Actual360().yearFraction(d0, d3m)\n",
    "    yearfrac.loc[index, '3m_act365'] = yearfrac.loc[index, '3m_act360'] * 360 / 365\n",
    "    \n",
    "    yearfrac.loc[index, '1y_act360'] = ql.Actual360().yearFraction(d0, d1y)\n",
    "    yearfrac.loc[index, '1y_act365'] = yearfrac.loc[index, '1y_act360'] * 360 / 365\n",
    "    \n",
    "    yearfrac.loc[index, '3y_act360'] = ql.Actual360().yearFraction(d0, d3y)\n",
    "    yearfrac.loc[index, '3y_act365'] = yearfrac.loc[index, '3y_act360'] * 360 / 365"
   ]
  },
  {
   "cell_type": "markdown",
   "metadata": {},
   "source": [
    "## Import data\n",
    "First use WM Reuters fx rates"
   ]
  },
  {
   "cell_type": "code",
   "execution_count": null,
   "metadata": {},
   "outputs": [],
   "source": [
    "# import fx spot & forwards\n",
    "fx = pd.read_csv('data/datastream_fx_wmr.csv', index_col=0)\n",
    "fx.index = pd.to_datetime(fx.index)\n",
    "# import libor rates\n",
    "libor = pd.read_csv('data/datastream_rates.csv', index_col=0) / 100\n",
    "libor.index = pd.to_datetime(libor.index)"
   ]
  },
  {
   "cell_type": "markdown",
   "metadata": {},
   "source": [
    "### USD/EUR 3 month basis"
   ]
  },
  {
   "cell_type": "code",
   "execution_count": null,
   "metadata": {},
   "outputs": [],
   "source": [
    "tenor = '3m'\n",
    "\n",
    "spot =  1 / fx['eurusd']\n",
    "fwd = 1 / fx['eurusd' + tenor]\n",
    "rf = libor['libusd' + tenor] * yearfrac[tenor + '_act360']\n",
    "r = libor['libeur' + tenor] * yearfrac[tenor + '_act360']\n",
    "basis_usdeur = 100*100*( (1 + rf) * fwd / spot  - (1+r) )"
   ]
  },
  {
   "cell_type": "code",
   "execution_count": null,
   "metadata": {},
   "outputs": [],
   "source": [
    "#basis = basis['2006-01-01':'2016-12-31']\n",
    "plot(basis_usdeur)"
   ]
  },
  {
   "cell_type": "markdown",
   "metadata": {},
   "source": [
    "### USD/JPY 3 month basis"
   ]
  },
  {
   "cell_type": "code",
   "execution_count": null,
   "metadata": {},
   "outputs": [],
   "source": [
    "tenor = '3m'\n",
    "\n",
    "spot =  fx['usdjpy']\n",
    "fwd = fx['usdjpy' + tenor]\n",
    "r = libor['libjpy' + tenor] * yearfrac[tenor + '_act360']\n",
    "rf = libor['libusd' + tenor] * yearfrac[tenor + '_act360']\n",
    "basis_usdjpy = 100*100*( (1 + rf) * fwd / spot  - (1+r) )"
   ]
  },
  {
   "cell_type": "code",
   "execution_count": null,
   "metadata": {},
   "outputs": [],
   "source": [
    "plot(basis_usdjpy)"
   ]
  },
  {
   "cell_type": "markdown",
   "metadata": {},
   "source": [
    "## Now try the same with Refinitiv FX data"
   ]
  },
  {
   "cell_type": "code",
   "execution_count": null,
   "metadata": {},
   "outputs": [],
   "source": [
    "# import fx spot & forwards\n",
    "fx_refin = pd.read_csv('data/datastream_fx_refinitiv.csv', index_col=0)\n",
    "fx_refin.index = pd.to_datetime(fx_refin.index)"
   ]
  },
  {
   "cell_type": "markdown",
   "metadata": {},
   "source": [
    "### USD/EUR 3 month basis, refinitiv data"
   ]
  },
  {
   "cell_type": "code",
   "execution_count": null,
   "metadata": {},
   "outputs": [],
   "source": [
    "tenor = '3m'\n",
    "\n",
    "spot =  1 / fx_refin['eurusd']\n",
    "fwd = 1 / fx_refin['eurusd' + tenor]\n",
    "rf = libor['libusd' + tenor] * yearfrac[tenor + '_act360']\n",
    "r = libor['libeur' + tenor] * yearfrac[tenor + '_act360']\n",
    "basis_usdeur_refin = 100*100*( (1 + rf) * fwd / spot  - (1+r) )"
   ]
  },
  {
   "cell_type": "code",
   "execution_count": null,
   "metadata": {},
   "outputs": [],
   "source": [
    "plot(basis_usdeur_refin)"
   ]
  },
  {
   "cell_type": "markdown",
   "metadata": {},
   "source": [
    "Refinitiv data makes the basis much more volatile"
   ]
  },
  {
   "cell_type": "markdown",
   "metadata": {},
   "source": [
    "### USD/JPY 3 month basis, refinitiv data"
   ]
  },
  {
   "cell_type": "code",
   "execution_count": null,
   "metadata": {},
   "outputs": [],
   "source": [
    "tenor = '3m'\n",
    "\n",
    "spot =  fx_refin['usdjpy']\n",
    "fwd = fx_refin['usdjpy' + tenor]\n",
    "r = libor['libjpy' + tenor] * yearfrac[tenor + '_act360']\n",
    "rf = libor['libusd' + tenor] * yearfrac[tenor + '_act360']\n",
    "basis_usdjpy_refin = 100*100*( (1 + rf) * fwd / spot  - (1+r) )"
   ]
  },
  {
   "cell_type": "code",
   "execution_count": null,
   "metadata": {},
   "outputs": [],
   "source": [
    "plot(basis_usdjpy_refin)"
   ]
  },
  {
   "cell_type": "markdown",
   "metadata": {},
   "source": [
    "## Compare WM Reuters with refinitiv data"
   ]
  },
  {
   "cell_type": "code",
   "execution_count": null,
   "metadata": {},
   "outputs": [],
   "source": [
    "plot([basis_usdeur_refin, basis_usdeur])"
   ]
  },
  {
   "cell_type": "code",
   "execution_count": null,
   "metadata": {},
   "outputs": [],
   "source": [
    "plot([basis_usdjpy_refin, basis_usdjpy])"
   ]
  },
  {
   "cell_type": "markdown",
   "metadata": {},
   "source": [
    "Especially the usd/jpy pair is considerably off. "
   ]
  }
 ],
 "metadata": {
  "kernelspec": {
   "display_name": "Python 3",
   "language": "python",
   "name": "python3"
  },
  "language_info": {
   "codemirror_mode": {
    "name": "ipython",
    "version": 3
   },
   "file_extension": ".py",
   "mimetype": "text/x-python",
   "name": "python",
   "nbconvert_exporter": "python",
   "pygments_lexer": "ipython3",
   "version": "3.7.1"
  }
 },
 "nbformat": 4,
 "nbformat_minor": 2
}
